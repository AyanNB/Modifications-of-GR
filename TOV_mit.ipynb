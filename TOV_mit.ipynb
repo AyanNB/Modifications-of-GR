{
  "nbformat": 4,
  "nbformat_minor": 0,
  "metadata": {
    "colab": {
      "name": "TOV_mit.ipynb",
      "version": "0.3.2",
      "provenance": [],
      "collapsed_sections": []
    },
    "kernelspec": {
      "name": "python3",
      "display_name": "Python 3"
    }
  },
  "cells": [
    {
      "cell_type": "markdown",
      "metadata": {
        "id": "k-UD1-M6Sx_9",
        "colab_type": "text"
      },
      "source": [
        "**Tolman-Oppenheimer-Volkoff equation solver. MIT bag model.**\n",
        "\n",
        "The TOV equations are given by following formula:\n",
        "\\begin{equation}\n",
        "\\frac{dp}{dr}=-G\\left(\\rho\\left(1+\\frac{\\epsilon}{c^2}\\right)+\\frac{p}{c^2}\\right)\\frac{m+4\\pi r^3p/c^2}{r(r-2Gm/c^2)} \\tag{1}\n",
        "\\end{equation}\n",
        "\\begin{equation}\n",
        "\\frac{dm}{dr}=4\\pi r^2 \\rho(1+\\epsilon/c^2) \\tag{2}\n",
        "\\end{equation}\n",
        "\\begin{equation}\n",
        "\\frac{d\\phi}{dr}=\\frac{m+4\\pi r^3p/c^2}{r(r-2Gm/c^2)} \\tag{3}\n",
        "\\end{equation}\n",
        "\n",
        "Now this equations are becomes closed when we specify pressure-density dependence. We took two models into accont polytropic equation of state and MIT bag model:\n",
        "\n",
        "$$p=\\frac{\\rho c^2 - 4 B}{3} \\tag{4}$$\n",
        "\n",
        "First let us write down all the coefficients that will be used in calculations. CGS units were used.\n",
        "\n",
        "**Define the bag constant that is going to be used in whole program**. To do that use *bag_const_def* function. By choosing bag constant you also define the minimum value for the central density, otherwise pressure could become negative:\n",
        "\n",
        "$$\\rho c^2 - 4 B>0$$\n"
      ]
    },
    {
      "cell_type": "code",
      "metadata": {
        "id": "JzBzAbeySvf5",
        "colab_type": "code",
        "colab": {}
      },
      "source": [
        "import numpy as np\n",
        "import matplotlib.pyplot as plt\n",
        "\n",
        "ggrav = 6.673E-8\n",
        "clite = 2.99792458E10\n",
        "g_c2 = ggrav/clite**2\n",
        "msun = 1.98892E33\n",
        "minpress=1E-3\n",
        "\n",
        "#makes conversion between Mev/fm^3 and SI units\n",
        "#and defines min possible density so that pressure\n",
        "#does not become negative\n",
        "#it is in cgs units\n",
        "def bag_const_def(b_const):\n",
        "  conversed_b = b_const*1.602176E33\n",
        "  min_rho = 4*conversed_b/clite**2\n",
        "  return conversed_b,round(min_rho/1.0E14)\n",
        "#bag const!!\n",
        "Beos,rho_min=bag_const_def(60)"
      ],
      "execution_count": 0,
      "outputs": []
    },
    {
      "cell_type": "code",
      "metadata": {
        "id": "GLyV5Ed4fFdq",
        "colab_type": "code",
        "colab": {}
      },
      "source": [
        "def poly_const_def(gamma_):\n",
        "  k_guess=1.98183E-6\n",
        "  rho_guess=2E14\n",
        "  press_guess=k_guess*(rho_guess)**2.75\n",
        "  k = press_guess/(rho_guess)**gamma_ #poly const for particular gamma\n",
        "  return k"
      ],
      "execution_count": 0,
      "outputs": []
    },
    {
      "cell_type": "code",
      "metadata": {
        "id": "dd-_dQJ-lpiX",
        "colab_type": "code",
        "colab": {}
      },
      "source": [
        "gamma=2.5\n",
        "k_poly=poly_const_def(gamma)\n",
        "k_poly=round(k_poly,9)\n"
      ],
      "execution_count": 0,
      "outputs": []
    },
    {
      "cell_type": "markdown",
      "metadata": {
        "id": "k66yDwxjUzeS",
        "colab_type": "text"
      },
      "source": [
        "Now let us define number of zones (we devide star for small integration zones) and maximum allowed radius:"
      ]
    },
    {
      "cell_type": "code",
      "metadata": {
        "id": "uY3acHSBS3ru",
        "colab_type": "code",
        "colab": {}
      },
      "source": [
        "nzones = 4000 #number of zones \n",
        "rmax  = 1.5E6 # 15 km\n",
        "dr = rmax/(nzones-1) #xstep "
      ],
      "execution_count": 0,
      "outputs": []
    },
    {
      "cell_type": "markdown",
      "metadata": {
        "id": "04Dx1h6cXNR1",
        "colab_type": "text"
      },
      "source": [
        "We use *feval* to pass function names into functions. This will be clear later on."
      ]
    },
    {
      "cell_type": "code",
      "metadata": {
        "id": "97SJWdIrXNcF",
        "colab_type": "code",
        "colab": {}
      },
      "source": [
        "def feval(funcName, *args): \n",
        "    return eval(funcName)(*args)"
      ],
      "execution_count": 0,
      "outputs": []
    },
    {
      "cell_type": "markdown",
      "metadata": {
        "id": "kZRKCvGwVT0g",
        "colab_type": "text"
      },
      "source": [
        "In the next cell, we define all the functions that are going to be used to calculate thermodynamic properties of the star. *Reveos* means reversed EOS to calculate density when pressure value is given. The need for this function could be seen from PDEs given above. As you can see only pressure and gravitational mass are calculated at each subsequent step *$r_i$+dr*, but not density (cause press and mass derivative given only). To calculate density at step *$r_i$+dr*, we have to use EOS with pressure value at this step. \n",
        "\n",
        "Torsion case special in this case because there is no analytic expression to define density from pressure value. That is why we use Newton-Raphson algorithm."
      ]
    },
    {
      "cell_type": "code",
      "metadata": {
        "id": "pcAoikQIS5fP",
        "colab_type": "code",
        "colab": {}
      },
      "source": [
        "#mit bag model eos\n",
        "def eos_mit(rho_):\n",
        "  return (rho_*clite**2-4*Beos)/3\n",
        "\n",
        "#reversed eos to define value of density\n",
        "def reveos_mit(press_,*args): \n",
        "  press_=max(minpress,press_)\n",
        "  rho_= (3*press_+4*Beos)/clite**2 \n",
        "  return rho_\n",
        "#newton-raphson algorithm to define density value from pressure\n",
        "def reveos_torsion_mit(pressi_,rho_crit):\n",
        "  pts=50\n",
        "  tp=np.zeros(pts)\n",
        "  tp[0]=1E15 #initial guess\n",
        "  ii=1\n",
        "  while abs(tp[ii-1]-tp[ii])/1E14>1E-8: #for ii in range(pts-1):\n",
        "    if ii==pts-1:\n",
        "      break\n",
        "    else:\n",
        "      te =  rho_crit/2*(1-(1-4*tp[ii]/rho_crit)**0.5) #temporary variable to ease calculations\n",
        "      eqn = (te*clite**2-4*Beos)/3 - (clite*tp[ii])**2/rho_crit-pressi_ #equation as it is \n",
        "      deqn = clite**2*(1 - 2/(3*(1 - 4*tp[ii]/rho_crit)**0.5)) #derivative of the equation\n",
        "      tp[ii+1]=tp[ii] - eqn/deqn #Newton-Raphson formula\n",
        "      rho_eff=tp[ii+1]\n",
        "    ii=ii+1\n",
        "  return rho_eff \n",
        "  \n",
        "\n",
        "def semi(rho_cent,rho_crit): #semiclassical corrections\n",
        "  return rho_cent - rho_cent**2/rho_crit\n",
        "\n",
        "def torsion(rho_cent,press_,rho_crit): #Torsional corrections\n",
        "  temprho = rho_cent - rho_cent**2/rho_crit\n",
        "  tempress = press_ - clite**2*rho_cent**2/rho_crit\n",
        "  return tempress"
      ],
      "execution_count": 0,
      "outputs": []
    },
    {
      "cell_type": "code",
      "metadata": {
        "id": "9XCKFYT_iEyp",
        "colab_type": "code",
        "colab": {}
      },
      "source": [
        "def eos_poly(rho_):\n",
        "  return k_poly*rho_**gamma\n",
        "\n",
        "def reveos_poly(press_,*args): \n",
        "  press_=max(minpress,press_)\n",
        "  rho_= (press_/k_poly)**(1/gamma) \n",
        "  return rho_\n",
        "#newton-raphson algorithm to define density value from pressure\n",
        "def reveos_torsion_poly(pressi_,rho_crit):\n",
        "  pts=50\n",
        "  tp=np.zeros(pts)\n",
        "  tp[0]=1E15 #initial guess\n",
        "  ii=1\n",
        "  while abs(tp[ii-1]-tp[ii])/tp[0]>1E-8: #for ii in range(pts-1):\n",
        "    if ii==pts-1:\n",
        "      break\n",
        "    else:\n",
        "      te =  (1-4*tp[ii]/rho_crit)**0.5 \n",
        "      tm =  rho_crit/2*(1-te)\n",
        "      h = 0.2973017*gamma*k_poly\n",
        "      eqn = k_poly*tm**gamma - (clite*tm)**2/rho_crit-pressi_\n",
        "      deqn = (h*(2.0*tm)**(gamma-1) - 2.0*tm*clite**2/rho_crit)/te\n",
        "      tp[ii+1]=tp[ii] - eqn/deqn\n",
        "      rho_eff=tp[ii+1]\n",
        "    ii=ii+1\n",
        "  return rho_eff "
      ],
      "execution_count": 0,
      "outputs": []
    },
    {
      "cell_type": "markdown",
      "metadata": {
        "id": "jU9RpSh_Y2qZ",
        "colab_type": "text"
      },
      "source": [
        "Now we define RHS of PDEs. It was divided to *classical* and *modified* as they are different from each other. In the classical case equations (1) - (3) were used as they are given, while in modified case \n",
        "$$\\frac{dp_{eff}}{dr}=f(p_{eff},m_{eff},\\rho_{eff}) \\tag{5}$$\n",
        "$$\\frac{dm_{eff}}{dr}=g(\\rho_{eff}) \\tag{6}$$\n",
        "$$\\frac{dm}{dr}=g(\\rho) \\tag{7}$$ \n",
        "additional mass derivative passed to integration algorigthm (*f* and *g* are given by equation (1) and (2) respectively). This is done in order to determine physical gravitational mass of the star. The reason is that for calculating the object’s mass in the semi-classical case, one has to use equation (7) with the physical density ρ while the boundary radius Rb is obtained from integration of the effective eTOV (5), (6) equation."
      ]
    },
    {
      "cell_type": "code",
      "metadata": {
        "id": "gyp3XSKNVrho",
        "colab_type": "code",
        "colab": {}
      },
      "source": [
        "def RHS_cl(p_and_m,r_,*args):  #RHS of PDE\n",
        "  press_=p_and_m[0]\n",
        "  mgrav_=p_and_m[1]\n",
        "  model =args[1]\n",
        "  if model=='reveos_poly':\n",
        "    rho_=feval(model,press_)\n",
        "    eps = press_/(gamma - 1.0)/rho_\n",
        "    mu  = rho_ + rho_*eps/clite**2\n",
        "  elif model=='reveos_mit':\n",
        "    mu  =feval(model,press_)\n",
        "\n",
        "  a=ggrav*(mu+press_/clite**2)*(mgrav_+4*np.pi*(r_**3)*press_/clite**2)/(r_*(2*g_c2*mgrav_-r_)) #dp/dr\n",
        "  b=4*np.pi*(r_**2)*mu #dm/dr\n",
        "  y=[]\n",
        "  y.append(a)\n",
        "  y.append(b)\n",
        "  return y\n",
        "\n",
        "def RHS_modified(p_and_m,r_,*args):  #RHS of PDE of modified\n",
        "  press_e_=p_and_m[0] \n",
        "  mgrav_=p_and_m[1]\n",
        "  mgrav_e_=p_and_m[2]\n",
        "  rho_crit=args[0]\n",
        "  reveos_func=args[1] #the name of function use to calculate density\n",
        "                      #it could be either (reveos_mit) or\n",
        "                      #(reveos_torsion)\n",
        "  \n",
        "  rho_e_=feval(reveos_func,press_e_,rho_crit) #calc eff density\n",
        "  rho_ = rho_crit/2*(1-(1-4*rho_e_/rho_crit)**0.5) #calc physical density from eff density\n",
        "  press_ = feval('eos_poly',rho_)\n",
        "  eps = press_/(gamma-1.0)/rho_\n",
        "  mu_e = rho_e_+rho_e_*eps/clite**2\n",
        "  mu = rho_ + rho_*eps/clite**2\n",
        "  if reveos_func=='reveos_poly':\n",
        "    rho_e_=mu_e\n",
        "    rho_ = mu\n",
        "  a=ggrav*(rho_e_+press_e_/clite**2)*(mgrav_e_+4*np.pi*(r_**3)*press_e_/clite**2)/(r_*(2*g_c2*mgrav_e_-r_)) #dp_eff/dr\n",
        "  b=4*np.pi*(r_**2)*rho_ #dm_eff/dr\n",
        "  c=4*np.pi*(r_**2)*rho_e_ #dm_phys/dr\n",
        "  y=[]\n",
        "  y.append(a)\n",
        "  y.append(b)\n",
        "  y.append(c)\n",
        "  return y"
      ],
      "execution_count": 0,
      "outputs": []
    },
    {
      "cell_type": "markdown",
      "metadata": {
        "id": "gzGTYm7hdX52",
        "colab_type": "text"
      },
      "source": [
        "Now define global variables that are used to calculate thermodynamic properties at each integration step."
      ]
    },
    {
      "cell_type": "code",
      "metadata": {
        "id": "nwPzFU0iS72f",
        "colab_type": "code",
        "colab": {}
      },
      "source": [
        "#allocate parameters used in integration  \n",
        "mgrav=np.zeros(nzones)\n",
        "press=np.zeros(nzones)\n",
        "rho=np.zeros(nzones)\n",
        "rs=np.zeros(nzones)\n",
        "mgrav_e=np.zeros(nzones)\n",
        "press_e=np.zeros(nzones)\n",
        "\n",
        "\n",
        "#values of radius\n",
        "rs[0]=0.01\n",
        "for i in range(1,nzones):\n",
        "  rs[i]=rs[i-1]+dr"
      ],
      "execution_count": 0,
      "outputs": []
    },
    {
      "cell_type": "markdown",
      "metadata": {
        "id": "b7DpflQodwjB",
        "colab_type": "text"
      },
      "source": [
        "[Runge–Kutta–Fehlberg](https://https://en.wikipedia.org/wiki/Runge%E2%80%93Kutta%E2%80%93Fehlberg_method) method was used to calculate mass and pressure at each subsequent step."
      ]
    },
    {
      "cell_type": "code",
      "metadata": {
        "id": "kQTw3F1vS_DI",
        "colab_type": "code",
        "colab": {}
      },
      "source": [
        "def RKF45(RHS_func,invar,step,*args):\n",
        "  x=step\n",
        "  num=len(invar)\n",
        "  tmp_dat=np.zeros(num)\n",
        "  sol=np.zeros(num)\n",
        "  rho_crit=args[0]\n",
        "  reveos_func=args[1]\n",
        "  \n",
        "  k1 = feval(RHS_func,invar,x,rho_crit,reveos_func)\n",
        "  \n",
        "  for i in range(num):\n",
        "    tmp_dat[i] = invar[i] + k1[i]*(dr/5)\n",
        "  \n",
        "  k2 = feval(RHS_func,tmp_dat,x+dr/5,rho_crit,reveos_func)\n",
        "  \n",
        "  for i in range(num):\n",
        "    tmp_dat[i] = invar[i] + k1[i]*(3*dr/40) + k2[i]*(9*dr/40)\n",
        "  \n",
        "  k3 = feval(RHS_func,tmp_dat,x+(3*dr/10),rho_crit,reveos_func)\n",
        "  \n",
        "  for i in range(num):\n",
        "    tmp_dat[i] = invar[i] + k1[i]*(3*dr/10) - k2[i]*(9*dr/10) + k3[i]*(6*dr/5)\n",
        "\n",
        "  k4 = feval(RHS_func,tmp_dat,x+(3*dr/5),rho_crit,reveos_func)\n",
        "  \n",
        "  for i in range(num):\n",
        "    tmp_dat[i] = invar[i] - k1[i]*(11*dr/54) + k2[i]*(5*dr/2) - k3[i]*(70*dr/27) + k4[i]*(35*dr/27)\n",
        "\n",
        "  k5 = feval(RHS_func,tmp_dat, x+dr,rho_crit,reveos_func)\n",
        "  \n",
        "  for i in range(num):\n",
        "    tmp_dat[i] = invar[i] + k1[i]*(1631*dr/55296) + k2[i]*(175*dr/512) + k3[i]*(575*dr/13824) + k4[i]*(44275*dr/110592) + k5[i]*(253*dr/4096)\n",
        "    \n",
        "  k6 = feval(RHS_func,tmp_dat,x+(7*dr/8),rho_crit,reveos_func)\n",
        "\n",
        "  for j in range(num):\n",
        "    sol[j] = invar[j] + dr*(37*k1[j]/378 + 250*k3[j]/621 + 125*k4[j]/594 + 512*k6[j]/1771)\n",
        "     \n",
        "  return  sol #press and mgrav"
      ],
      "execution_count": 0,
      "outputs": []
    },
    {
      "cell_type": "markdown",
      "metadata": {
        "id": "V9R__91LeJ9_",
        "colab_type": "text"
      },
      "source": [
        "Number of central densities used to calculate $M-R_b$ plot"
      ]
    },
    {
      "cell_type": "code",
      "metadata": {
        "id": "5RzQOXCency6",
        "colab_type": "code",
        "colab": {}
      },
      "source": [
        "n=100 #central initial densities"
      ],
      "execution_count": 0,
      "outputs": []
    },
    {
      "cell_type": "markdown",
      "metadata": {
        "id": "opFfMcuteo9Z",
        "colab_type": "text"
      },
      "source": [
        "Classical TOV solver. Equations (1), (2) used as they are. \n",
        "\n",
        "1st loop here is used to sweep through central densities which are given by *rho_cit*.  So *rho_cit[i]* sets central density and initial values of mass and pressure are calculated through EOS.\n",
        "\n",
        "Then 2nd loop sweep through all the integration zones. *tempvar* variable is used to pass previous pressure and mass values to RKF45 algorithm and calculte current pressure and mass values. Then *while* function is used to define the point where pressure becomes negative stating the point of boundary of the star. After that boundary radius and mass for given *rho_cit* are stored in *rb* and *M* arrays respectively.\n",
        "\n",
        "\n"
      ]
    },
    {
      "cell_type": "code",
      "metadata": {
        "id": "vfGWwrLgy3o1",
        "colab_type": "code",
        "colab": {}
      },
      "source": [
        "def TOV_cl(n_cden,model):\n",
        "  num_of_var=2\n",
        "  rho_cit=np.zeros(n_cden)\n",
        "  rb = np.zeros(n_cden)\n",
        "  M = np.zeros(n_cden)\n",
        "  tempvar=np.zeros(num_of_var)\n",
        "  \n",
        "  temppress=np.zeros((n_cden,nzones))\n",
        "  for i in range(n_cden): #1st loop\n",
        "    if model=='poly':\n",
        "      rho_cit[i]=0.5E14+i*0.25E14\n",
        "    elif model=='mit':\n",
        "      rho_cit[i]=rho_min*1.0E14 + (i+2)*0.25E14\n",
        "\n",
        "  #initial values\n",
        "\n",
        "    rho[0]=rho_cit[i]\n",
        "    press[0]=feval('eos_{}'.format(model),rho[0])  \n",
        "    mgrav[0]=(4*np.pi*rho[0]*rs[0]**3)/3.0\n",
        "\n",
        "\n",
        "    for j in range(1,nzones): #2nd loop\n",
        "      tempvar[0]=max(press[j-1],minpress)\n",
        "      tempvar[1]=mgrav[j-1]\n",
        "      press[j],mgrav[j]=RKF45('RHS_cl',tempvar,rs[j-1],1,'reveos_{}'.format(model)) #here rho_crit and reveos_func taken as 1\n",
        "                                                      #do not delete them, cause RKF45 requires them to be passed\n",
        "                                                            #they are not used in classical case \n",
        "      #rho[j] = reveos_mit(press[j])\n",
        "    \n",
        "    k=0\n",
        "    while press[k]>0:\n",
        "      k=k+1\n",
        "      isurf=k-1 \n",
        "    rb[i]=rs[isurf]/1E5\n",
        "    M[i]=mgrav[isurf]/msun\n",
        "    temppress[i,:]=press\n",
        "  return rb,M,temppress#,mgrav,rho \n"
      ],
      "execution_count": 0,
      "outputs": []
    },
    {
      "cell_type": "markdown",
      "metadata": {
        "id": "MeL61SrHex3V",
        "colab_type": "text"
      },
      "source": [
        "Modified TOV solver. Semiclassical correction to EOS was used. \n",
        "\n",
        "It almost the same as in classical case, with difference in the 1st loop. 1st loop is used to calculate critical densities, that are on turn is used to define effective pressure and mass. \n",
        "\n",
        "Critical density values in this case: 1.5E16, 4E16, 1E17"
      ]
    },
    {
      "cell_type": "code",
      "metadata": {
        "id": "2Gq0LZjrDuPN",
        "colab_type": "code",
        "colab": {}
      },
      "source": [
        "def TOV_semi(n_cden,model):\n",
        "  num_of_var=3\n",
        "  num_of_crden=3 #number of critical densities\n",
        "  tempvar=np.zeros(num_of_var)\n",
        "  M=np.zeros((num_of_crden,n_cden))\n",
        "  rb=np.zeros((num_of_crden,n_cden))\n",
        "  rho_cr=np.zeros(num_of_crden)\n",
        "  rho_cit=np.zeros(n_cden)\n",
        "  \n",
        "  temppress=np.zeros((num_of_crden,n_cden,nzones))\n",
        "  #tempmass=np.zeros((num_of_crden,n_cden,nzones))\n",
        "  #temprho=np.zeros((num_of_crden,n_cden))\n",
        "  for g in range(1,4):\n",
        "    rho_cr[g-1]=(1.75*g**2-2.75*g+2.5)*1.0E16\n",
        "    for i in range(n_cden):\n",
        "      if model=='poly':\n",
        "        rho_cit[i] =0.5E14+i*0.25E14#\n",
        "      elif model=='mit':\n",
        "        rho_cit[i]=rho_min*1.0E14 + (i+2)*0.25E14#\n",
        "  \n",
        "      #initial values\n",
        "      rho[0]=semi(rho_cit[i],rho_cr[g-1]) #effective rho\n",
        "      #physical and effective masses\n",
        "      mgrav[0]=(4*np.pi*rho_cit[i]*rs[0]**3)/3.0\n",
        "      mgrav_e[0]=(4*np.pi*rho[0]*rs[0]**3)/3.0\n",
        "      #physical and effective pressure \n",
        "      press[0]=feval('eos_{}'.format(model),rho_cit[i])\n",
        "      press_e[0]=feval('eos_{}'.format(model),rho[0])\n",
        "      \n",
        "      \n",
        "      \n",
        "      for j in range(1,nzones):\n",
        "        tempvar[0]=max(press_e[j-1],minpress)\n",
        "        tempvar[1]=mgrav[j-1]\n",
        "        tempvar[2]=mgrav_e[j-1]\n",
        "        press_e[j],mgrav[j],mgrav_e[j]=RKF45('RHS_modified',tempvar,rs[j-1],rho_cr[g-1],'reveos_{}'.format(model))\n",
        "        #rho[j] = reveos_mit(press[j])\n",
        "      k=0\n",
        "      while press_e[k]>0:\n",
        "        k=k+1\n",
        "        isurf1=k-1\n",
        "      rb[g-1,i]=rs[isurf1]/1E5\n",
        "      M[g-1,i]=mgrav[isurf1]/msun\n",
        "      temppress[g-1,i,:]=press_e\n",
        "      #tempmass[g-1,i,:]=mgrav\n",
        "      #temprho[g-1,i,:]=rho\n",
        "  return rb,M,temppress#,tempmass,temprho  "
      ],
      "execution_count": 0,
      "outputs": []
    },
    {
      "cell_type": "markdown",
      "metadata": {
        "id": "1KoGv5rjq8W0",
        "colab_type": "text"
      },
      "source": [
        "Modified TOV solver. Torsional correction to EOS was used. \n",
        "\n",
        "It almost the same as in classical case, with difference in the 1st loop. 1st loop is used to calculate critical densities, that are on turn is used to define effective pressure and mass. \n",
        "\n",
        "Critical density values in this case: 1E17, 2.5E17, 5E17"
      ]
    },
    {
      "cell_type": "code",
      "metadata": {
        "id": "fVtOxACSTEIo",
        "colab_type": "code",
        "colab": {}
      },
      "source": [
        "def crit_dens_mit(nn):\n",
        "  return (0.5*nn**2+0.5)*1.0E17\n",
        "def crit_dens_poly(nn):\n",
        "  return (nn**2-nn+2)*1.0E17\n",
        "\n",
        "\n",
        "def TOV_torsion(n_cden,model):\n",
        "  num_of_var=3\n",
        "  num_of_crden=3\n",
        "  tempvar=np.zeros(num_of_var)\n",
        "  M=np.zeros((3,n_cden))\n",
        "  rb=np.zeros((3,n_cden))\n",
        "  rho_cr=np.zeros(3)\n",
        "  rho_cit=np.zeros(n_cden)\n",
        "  \n",
        "  temppress=np.zeros((num_of_crden,n_cden,nzones))\n",
        "  #tem]pmass=np.zeros((num_of_crden,n_cden,nzones))\n",
        "  #temprho=np.zeros((num_of_crden,n_cden))  \n",
        "  \n",
        "  for g in range(1,4):\n",
        "    rho_cr[g-1]=feval('crit_dens_{}'.format(model),g)\n",
        "    for i in range(n):\n",
        "      if model=='poly':\n",
        "        rho_cit[i] =0.5E14+i*0.25E14\n",
        "        \n",
        "      elif model=='mit':\n",
        "        rho_cit[i] =rho_min*1.0E14+(i+2)*0.25E14\n",
        "      #initial values\n",
        "      rho[0]=semi(rho_cit[i],rho_cr[g-1])\n",
        "      \n",
        "      mgrav[0]=(4*np.pi*rho_cit[i]*rs[0]**3)/3.0\n",
        "      mgrav_e[0]=(4*np.pi*rho[0]*rs[0]**3)/3.0\n",
        "      \n",
        "      press[0]=feval('eos_{}'.format(model),rho_cit[i])\n",
        "      press_e[0]=torsion(rho_cit[i],press[0],rho_cr[g-1])\n",
        "      \n",
        "    \n",
        "      for j in range(1,nzones):\n",
        "        tempvar[0]=max(press_e[j-1],minpress)\n",
        "        tempvar[1]=mgrav[j-1]\n",
        "        tempvar[2]=mgrav_e[j-1]\n",
        "        press_e[j],mgrav[j],mgrav_e[j]=RKF45('RHS_modified',tempvar,rs[j-1],rho_cr[g-1],'reveos_torsion_{}'.format(model))\n",
        "        #rho[j] = reveos_torsion(press[j])\n",
        "      k=0\n",
        "      while press_e[k]>0:\n",
        "        k=k+1\n",
        "        isurf=k-1\n",
        "      rb[g-1,i]=rs[isurf]/1E5\n",
        "      M[g-1,i]=mgrav[isurf]/msun\n",
        "      temppress[g-1,i,:]=press_e\n",
        "      #tempmass[g-1,i,:]=mgrav\n",
        "      #temprho[g-1,i,:]=rho\n",
        "  return rb,M,temppress  "
      ],
      "execution_count": 0,
      "outputs": []
    },
    {
      "cell_type": "markdown",
      "metadata": {
        "id": "gJw9kM2-rKeS",
        "colab_type": "text"
      },
      "source": [
        "The final step is to use solvers to calculate all parameters."
      ]
    },
    {
      "cell_type": "code",
      "metadata": {
        "id": "Edj7SIcp8e_X",
        "colab_type": "code",
        "colab": {}
      },
      "source": [
        "rb_cl_mit,M_cl_mit,p_cl_mit=TOV_cl(n,'mit') #,p_cl"
      ],
      "execution_count": 0,
      "outputs": []
    },
    {
      "cell_type": "code",
      "metadata": {
        "id": "3f8LEoL18h9v",
        "colab_type": "code",
        "outputId": "315013e8-675f-4078-b660-da4a332ee645",
        "colab": {
          "base_uri": "https://localhost:8080/",
          "height": 320
        }
      },
      "source": [
        "rb_semi_mit,M_semi_mit,p_semi_mit=TOV_semi(n,'mit')"
      ],
      "execution_count": 0,
      "outputs": [
        {
          "output_type": "error",
          "ename": "KeyboardInterrupt",
          "evalue": "ignored",
          "traceback": [
            "\u001b[0;31m---------------------------------------------------------------------------\u001b[0m",
            "\u001b[0;31mKeyboardInterrupt\u001b[0m                         Traceback (most recent call last)",
            "\u001b[0;32m<ipython-input-73-aa16bb4a3c0f>\u001b[0m in \u001b[0;36m<module>\u001b[0;34m()\u001b[0m\n\u001b[0;32m----> 1\u001b[0;31m \u001b[0mrb_semi_mit\u001b[0m\u001b[0;34m,\u001b[0m\u001b[0mM_semi_mit\u001b[0m\u001b[0;34m,\u001b[0m\u001b[0mp_semi_mit\u001b[0m\u001b[0;34m=\u001b[0m\u001b[0mTOV_semi\u001b[0m\u001b[0;34m(\u001b[0m\u001b[0mn\u001b[0m\u001b[0;34m,\u001b[0m\u001b[0;34m'mit'\u001b[0m\u001b[0;34m)\u001b[0m\u001b[0;34m\u001b[0m\u001b[0;34m\u001b[0m\u001b[0m\n\u001b[0m",
            "\u001b[0;32m<ipython-input-70-089e1440a028>\u001b[0m in \u001b[0;36mTOV_semi\u001b[0;34m(n_cden, model)\u001b[0m\n\u001b[1;32m     34\u001b[0m         \u001b[0mtempvar\u001b[0m\u001b[0;34m[\u001b[0m\u001b[0;36m1\u001b[0m\u001b[0;34m]\u001b[0m\u001b[0;34m=\u001b[0m\u001b[0mmgrav\u001b[0m\u001b[0;34m[\u001b[0m\u001b[0mj\u001b[0m\u001b[0;34m-\u001b[0m\u001b[0;36m1\u001b[0m\u001b[0;34m]\u001b[0m\u001b[0;34m\u001b[0m\u001b[0;34m\u001b[0m\u001b[0m\n\u001b[1;32m     35\u001b[0m         \u001b[0mtempvar\u001b[0m\u001b[0;34m[\u001b[0m\u001b[0;36m2\u001b[0m\u001b[0;34m]\u001b[0m\u001b[0;34m=\u001b[0m\u001b[0mmgrav_e\u001b[0m\u001b[0;34m[\u001b[0m\u001b[0mj\u001b[0m\u001b[0;34m-\u001b[0m\u001b[0;36m1\u001b[0m\u001b[0;34m]\u001b[0m\u001b[0;34m\u001b[0m\u001b[0;34m\u001b[0m\u001b[0m\n\u001b[0;32m---> 36\u001b[0;31m         \u001b[0mpress_e\u001b[0m\u001b[0;34m[\u001b[0m\u001b[0mj\u001b[0m\u001b[0;34m]\u001b[0m\u001b[0;34m,\u001b[0m\u001b[0mmgrav\u001b[0m\u001b[0;34m[\u001b[0m\u001b[0mj\u001b[0m\u001b[0;34m]\u001b[0m\u001b[0;34m,\u001b[0m\u001b[0mmgrav_e\u001b[0m\u001b[0;34m[\u001b[0m\u001b[0mj\u001b[0m\u001b[0;34m]\u001b[0m\u001b[0;34m=\u001b[0m\u001b[0mRKF45\u001b[0m\u001b[0;34m(\u001b[0m\u001b[0;34m'RHS_modified'\u001b[0m\u001b[0;34m,\u001b[0m\u001b[0mtempvar\u001b[0m\u001b[0;34m,\u001b[0m\u001b[0mrs\u001b[0m\u001b[0;34m[\u001b[0m\u001b[0mj\u001b[0m\u001b[0;34m-\u001b[0m\u001b[0;36m1\u001b[0m\u001b[0;34m]\u001b[0m\u001b[0;34m,\u001b[0m\u001b[0mrho_cr\u001b[0m\u001b[0;34m[\u001b[0m\u001b[0mg\u001b[0m\u001b[0;34m-\u001b[0m\u001b[0;36m1\u001b[0m\u001b[0;34m]\u001b[0m\u001b[0;34m,\u001b[0m\u001b[0;34m'reveos_{}'\u001b[0m\u001b[0;34m.\u001b[0m\u001b[0mformat\u001b[0m\u001b[0;34m(\u001b[0m\u001b[0mmodel\u001b[0m\u001b[0;34m)\u001b[0m\u001b[0;34m)\u001b[0m\u001b[0;34m\u001b[0m\u001b[0;34m\u001b[0m\u001b[0m\n\u001b[0m\u001b[1;32m     37\u001b[0m         \u001b[0;31m#rho[j] = reveos_mit(press[j])\u001b[0m\u001b[0;34m\u001b[0m\u001b[0;34m\u001b[0m\u001b[0;34m\u001b[0m\u001b[0m\n\u001b[1;32m     38\u001b[0m       \u001b[0mk\u001b[0m\u001b[0;34m=\u001b[0m\u001b[0;36m0\u001b[0m\u001b[0;34m\u001b[0m\u001b[0;34m\u001b[0m\u001b[0m\n",
            "\u001b[0;32m<ipython-input-67-a036a286e377>\u001b[0m in \u001b[0;36mRKF45\u001b[0;34m(RHS_func, invar, step, *args)\u001b[0m\n\u001b[1;32m     27\u001b[0m     \u001b[0mtmp_dat\u001b[0m\u001b[0;34m[\u001b[0m\u001b[0mi\u001b[0m\u001b[0;34m]\u001b[0m \u001b[0;34m=\u001b[0m \u001b[0minvar\u001b[0m\u001b[0;34m[\u001b[0m\u001b[0mi\u001b[0m\u001b[0;34m]\u001b[0m \u001b[0;34m-\u001b[0m \u001b[0mk1\u001b[0m\u001b[0;34m[\u001b[0m\u001b[0mi\u001b[0m\u001b[0;34m]\u001b[0m\u001b[0;34m*\u001b[0m\u001b[0;34m(\u001b[0m\u001b[0;36m11\u001b[0m\u001b[0;34m*\u001b[0m\u001b[0mdr\u001b[0m\u001b[0;34m/\u001b[0m\u001b[0;36m54\u001b[0m\u001b[0;34m)\u001b[0m \u001b[0;34m+\u001b[0m \u001b[0mk2\u001b[0m\u001b[0;34m[\u001b[0m\u001b[0mi\u001b[0m\u001b[0;34m]\u001b[0m\u001b[0;34m*\u001b[0m\u001b[0;34m(\u001b[0m\u001b[0;36m5\u001b[0m\u001b[0;34m*\u001b[0m\u001b[0mdr\u001b[0m\u001b[0;34m/\u001b[0m\u001b[0;36m2\u001b[0m\u001b[0;34m)\u001b[0m \u001b[0;34m-\u001b[0m \u001b[0mk3\u001b[0m\u001b[0;34m[\u001b[0m\u001b[0mi\u001b[0m\u001b[0;34m]\u001b[0m\u001b[0;34m*\u001b[0m\u001b[0;34m(\u001b[0m\u001b[0;36m70\u001b[0m\u001b[0;34m*\u001b[0m\u001b[0mdr\u001b[0m\u001b[0;34m/\u001b[0m\u001b[0;36m27\u001b[0m\u001b[0;34m)\u001b[0m \u001b[0;34m+\u001b[0m \u001b[0mk4\u001b[0m\u001b[0;34m[\u001b[0m\u001b[0mi\u001b[0m\u001b[0;34m]\u001b[0m\u001b[0;34m*\u001b[0m\u001b[0;34m(\u001b[0m\u001b[0;36m35\u001b[0m\u001b[0;34m*\u001b[0m\u001b[0mdr\u001b[0m\u001b[0;34m/\u001b[0m\u001b[0;36m27\u001b[0m\u001b[0;34m)\u001b[0m\u001b[0;34m\u001b[0m\u001b[0;34m\u001b[0m\u001b[0m\n\u001b[1;32m     28\u001b[0m \u001b[0;34m\u001b[0m\u001b[0m\n\u001b[0;32m---> 29\u001b[0;31m   \u001b[0mk5\u001b[0m \u001b[0;34m=\u001b[0m \u001b[0mfeval\u001b[0m\u001b[0;34m(\u001b[0m\u001b[0mRHS_func\u001b[0m\u001b[0;34m,\u001b[0m\u001b[0mtmp_dat\u001b[0m\u001b[0;34m,\u001b[0m \u001b[0mx\u001b[0m\u001b[0;34m+\u001b[0m\u001b[0mdr\u001b[0m\u001b[0;34m,\u001b[0m\u001b[0mrho_crit\u001b[0m\u001b[0;34m,\u001b[0m\u001b[0mreveos_func\u001b[0m\u001b[0;34m)\u001b[0m\u001b[0;34m\u001b[0m\u001b[0;34m\u001b[0m\u001b[0m\n\u001b[0m\u001b[1;32m     30\u001b[0m \u001b[0;34m\u001b[0m\u001b[0m\n\u001b[1;32m     31\u001b[0m   \u001b[0;32mfor\u001b[0m \u001b[0mi\u001b[0m \u001b[0;32min\u001b[0m \u001b[0mrange\u001b[0m\u001b[0;34m(\u001b[0m\u001b[0mnum\u001b[0m\u001b[0;34m)\u001b[0m\u001b[0;34m:\u001b[0m\u001b[0;34m\u001b[0m\u001b[0;34m\u001b[0m\u001b[0m\n",
            "\u001b[0;32m<ipython-input-62-2b5003a6959d>\u001b[0m in \u001b[0;36mfeval\u001b[0;34m(funcName, *args)\u001b[0m\n\u001b[1;32m      1\u001b[0m \u001b[0;32mdef\u001b[0m \u001b[0mfeval\u001b[0m\u001b[0;34m(\u001b[0m\u001b[0mfuncName\u001b[0m\u001b[0;34m,\u001b[0m \u001b[0;34m*\u001b[0m\u001b[0margs\u001b[0m\u001b[0;34m)\u001b[0m\u001b[0;34m:\u001b[0m\u001b[0;34m\u001b[0m\u001b[0;34m\u001b[0m\u001b[0m\n\u001b[0;32m----> 2\u001b[0;31m     \u001b[0;32mreturn\u001b[0m \u001b[0meval\u001b[0m\u001b[0;34m(\u001b[0m\u001b[0mfuncName\u001b[0m\u001b[0;34m)\u001b[0m\u001b[0;34m(\u001b[0m\u001b[0;34m*\u001b[0m\u001b[0margs\u001b[0m\u001b[0;34m)\u001b[0m\u001b[0;34m\u001b[0m\u001b[0;34m\u001b[0m\u001b[0m\n\u001b[0m",
            "\u001b[0;32m<ipython-input-65-44b4c4617d36>\u001b[0m in \u001b[0;36mRHS_modified\u001b[0;34m(p_and_m, r_, *args)\u001b[0m\n\u001b[1;32m     26\u001b[0m                       \u001b[0;31m#(reveos_torsion)\u001b[0m\u001b[0;34m\u001b[0m\u001b[0;34m\u001b[0m\u001b[0;34m\u001b[0m\u001b[0m\n\u001b[1;32m     27\u001b[0m \u001b[0;34m\u001b[0m\u001b[0m\n\u001b[0;32m---> 28\u001b[0;31m   \u001b[0mrho_e_\u001b[0m\u001b[0;34m=\u001b[0m\u001b[0mfeval\u001b[0m\u001b[0;34m(\u001b[0m\u001b[0mreveos_func\u001b[0m\u001b[0;34m,\u001b[0m\u001b[0mpress_e_\u001b[0m\u001b[0;34m,\u001b[0m\u001b[0mrho_crit\u001b[0m\u001b[0;34m)\u001b[0m \u001b[0;31m#calc eff density\u001b[0m\u001b[0;34m\u001b[0m\u001b[0;34m\u001b[0m\u001b[0m\n\u001b[0m\u001b[1;32m     29\u001b[0m   \u001b[0mrho_\u001b[0m \u001b[0;34m=\u001b[0m \u001b[0mrho_crit\u001b[0m\u001b[0;34m/\u001b[0m\u001b[0;36m2\u001b[0m\u001b[0;34m*\u001b[0m\u001b[0;34m(\u001b[0m\u001b[0;36m1\u001b[0m\u001b[0;34m-\u001b[0m\u001b[0;34m(\u001b[0m\u001b[0;36m1\u001b[0m\u001b[0;34m-\u001b[0m\u001b[0;36m4\u001b[0m\u001b[0;34m*\u001b[0m\u001b[0mrho_e_\u001b[0m\u001b[0;34m/\u001b[0m\u001b[0mrho_crit\u001b[0m\u001b[0;34m)\u001b[0m\u001b[0;34m**\u001b[0m\u001b[0;36m0.5\u001b[0m\u001b[0;34m)\u001b[0m \u001b[0;31m#calc physical density from eff density\u001b[0m\u001b[0;34m\u001b[0m\u001b[0;34m\u001b[0m\u001b[0m\n\u001b[1;32m     30\u001b[0m   \u001b[0mpress_\u001b[0m \u001b[0;34m=\u001b[0m \u001b[0mfeval\u001b[0m\u001b[0;34m(\u001b[0m\u001b[0;34m'eos_poly'\u001b[0m\u001b[0;34m,\u001b[0m\u001b[0mrho_\u001b[0m\u001b[0;34m)\u001b[0m\u001b[0;34m\u001b[0m\u001b[0;34m\u001b[0m\u001b[0m\n",
            "\u001b[0;31mKeyboardInterrupt\u001b[0m: "
          ]
        }
      ]
    },
    {
      "cell_type": "code",
      "metadata": {
        "id": "DJA7muBfG9_P",
        "colab_type": "code",
        "colab": {}
      },
      "source": [
        "rb_tor_mit,M_tor_mit,p_tor_mit=TOV_torsion(n,'mit')"
      ],
      "execution_count": 0,
      "outputs": []
    },
    {
      "cell_type": "markdown",
      "metadata": {
        "id": "OMAcWE8xrhQU",
        "colab_type": "text"
      },
      "source": [
        "Here we plot *M - R* relation for semiclassical corrections to TOV."
      ]
    },
    {
      "cell_type": "code",
      "metadata": {
        "id": "uEodgjID4su9",
        "colab_type": "code",
        "colab": {}
      },
      "source": [
        "plt.plot(rb_cl_mit,M_cl_mit,'k',lw=0.7)\n",
        "lines=['--',':','-.']\n",
        "for i in range(3):\n",
        "  plt.plot(rb_semi_mit[i],M_semi_mit[i],lines[i],c='k',lw=1.3)\n",
        "plt.rcParams['figure.figsize'] = [18, 13]\n",
        "plt.show()"
      ],
      "execution_count": 0,
      "outputs": []
    },
    {
      "cell_type": "code",
      "metadata": {
        "id": "UPrIhU7jBDPK",
        "colab_type": "code",
        "colab": {}
      },
      "source": [
        "cen_dens=48 #1.65E15\n",
        "\n",
        "bound_cl=np.where(rs/1E5 == rb_cl_mit[cen_dens])\n",
        "boundary=int(bound_cl[0])\n",
        "bry_semi=np.zeros(3,dtype=int)\n",
        "for i in range(3):\n",
        "  b_semi=np.where(rs/1E5 == rb_semi_mit[i,cen_dens])\n",
        "  bry_semi[i]=int(b_semi[0])\n",
        "\n",
        "  \n",
        "\n",
        "plt.plot(rs[0:boundary]/1E5,p_cl_mit[cen_dens,0:boundary]/p_cl_mit[cen_dens,0],'k',lw=1.2)\n",
        "for i in range(3):\n",
        "  plt.plot(rs[0:bry_semi[i]]/1E5,p_semi_mit[i,cen_dens,0:bry_semi[i]]/p_cl_mit[cen_dens,0],\n",
        "           lines[i],c='k',lw=1.2)\n",
        "#plt.plot()\n",
        "plt.show()"
      ],
      "execution_count": 0,
      "outputs": []
    },
    {
      "cell_type": "code",
      "metadata": {
        "id": "gwihsMhcyvNZ",
        "colab_type": "code",
        "colab": {}
      },
      "source": [
        ""
      ],
      "execution_count": 0,
      "outputs": []
    },
    {
      "cell_type": "markdown",
      "metadata": {
        "id": "Q6ipoVkrpJXL",
        "colab_type": "text"
      },
      "source": [
        ""
      ]
    },
    {
      "cell_type": "code",
      "metadata": {
        "id": "oAIy7LPBVD-f",
        "colab_type": "code",
        "colab": {}
      },
      "source": [
        "plt.plot(rb_cl_mit,M_cl_mit,'k',lw=0.7)\n",
        "for i in range(3):\n",
        "  plt.plot(rb_tor_mit[i],M_tor_mit[i],lines[i],c='k',lw=1.3)\n",
        "plt.rcParams['figure.figsize'] = [18, 13]\n",
        "plt.show()"
      ],
      "execution_count": 0,
      "outputs": []
    },
    {
      "cell_type": "code",
      "metadata": {
        "id": "OmqwKq-kXlBi",
        "colab_type": "code",
        "colab": {}
      },
      "source": [
        "print(round(4.2714514,3))"
      ],
      "execution_count": 0,
      "outputs": []
    },
    {
      "cell_type": "markdown",
      "metadata": {
        "id": "gAh5hNILr06i",
        "colab_type": "text"
      },
      "source": [
        "Polytropic equation of state. \n",
        "\n",
        "---\n",
        "\n",
        "\n",
        "$$p=K \\rho^{\\gamma} \\tag{4}$$\n",
        "\n",
        "Now let's solve case for polytropi EOS. The whole procedure is the same with difference in minor parts. \n",
        "\n",
        "Fisrt let us define relation betweeen polytropic constant $K$ and power of polytrope $\\gamma$. For that we fix the initial value of central density and pressure and calculate constant for different values of $\\gamma$. Initial guess for $K=1.98183\\cdot10^{-6}$ is taken from C. Ott tutorial paper.\n"
      ]
    },
    {
      "cell_type": "markdown",
      "metadata": {
        "id": "jStY8GUuh-Sx",
        "colab_type": "text"
      },
      "source": [
        "Now lets define EOS and reversed EOS for polytropic case."
      ]
    },
    {
      "cell_type": "code",
      "metadata": {
        "id": "Oz8Q3BtaQyNT",
        "colab_type": "code",
        "colab": {}
      },
      "source": [
        "rb_cl_poly,M_cl_poly,p_cl_poly=TOV_cl(n,'poly')"
      ],
      "execution_count": 0,
      "outputs": []
    },
    {
      "cell_type": "code",
      "metadata": {
        "id": "xPTMcmC299N0",
        "colab_type": "code",
        "outputId": "a4edb8d9-bd57-48d0-fe1f-9ef88986b009",
        "colab": {
          "base_uri": "https://localhost:8080/",
          "height": 53
        }
      },
      "source": [
        "rb_semi_poly,M_semi_poly,p_semi_poly=TOV_semi(n,'poly')"
      ],
      "execution_count": 0,
      "outputs": [
        {
          "output_type": "stream",
          "text": [
            "/usr/local/lib/python3.6/dist-packages/ipykernel_launcher.py:31: RuntimeWarning: invalid value encountered in double_scalars\n"
          ],
          "name": "stderr"
        }
      ]
    },
    {
      "cell_type": "code",
      "metadata": {
        "id": "FVmjbbMF_brq",
        "colab_type": "code",
        "outputId": "f18b3486-a8e2-40f1-d06d-a81380281809",
        "colab": {
          "base_uri": "https://localhost:8080/",
          "height": 778
        }
      },
      "source": [
        "plt.plot(rb_cl_poly,M_cl_poly,'k',lw=0.7)\n",
        "lines=['--',':','-.']\n",
        "for i in range(3):\n",
        "  plt.plot(rb_semi_poly[i],M_semi_poly[i],lines[i],c='k',lw=1.3)\n",
        "plt.rcParams['figure.figsize'] = [18, 13]\n",
        "plt.show()"
      ],
      "execution_count": 0,
      "outputs": [
        {
          "output_type": "display_data",
          "data": {
            "image/png": "[encoded data removed]",
            "text/plain": [
              "<Figure size 1296x936 with 1 Axes>"
            ]
          },
          "metadata": {
            "tags": []
          }
        }
      ]
    },
    {
      "cell_type": "code",
      "metadata": {
        "id": "8PaeeCfi-NX8",
        "colab_type": "code",
        "outputId": "03dbf5f9-2fa0-4e06-fc26-dc473372e262",
        "colab": {
          "base_uri": "https://localhost:8080/",
          "height": 86
        }
      },
      "source": [
        "rb_tor_poly,M_tor_poly,p_tor_poly=TOV_torsion(n,'poly')"
      ],
      "execution_count": 0,
      "outputs": [
        {
          "output_type": "stream",
          "text": [
            "/usr/local/lib/python3.6/dist-packages/ipykernel_launcher.py:23: RuntimeWarning: divide by zero encountered in double_scalars\n",
            "/usr/local/lib/python3.6/dist-packages/ipykernel_launcher.py:21: RuntimeWarning: invalid value encountered in double_scalars\n",
            "/usr/local/lib/python3.6/dist-packages/ipykernel_launcher.py:22: RuntimeWarning: invalid value encountered in double_scalars\n"
          ],
          "name": "stderr"
        }
      ]
    },
    {
      "cell_type": "code",
      "metadata": {
        "id": "oddUbAhkJNRl",
        "colab_type": "code",
        "outputId": "8efd499e-b14c-40f5-8761-e1e9e859e1f9",
        "colab": {
          "base_uri": "https://localhost:8080/",
          "height": 778
        }
      },
      "source": [
        "plt.plot(rb_cl_poly,M_cl_poly,'k',lw=0.7)\n",
        "lines=['--',':','-.']\n",
        "for i in range(3):\n",
        "  plt.plot(rb_tor_poly[i],M_tor_poly[i],lines[i],c='k',lw=1.3)\n",
        "plt.rcParams['figure.figsize'] = [18, 13]\n",
        "plt.show()"
      ],
      "execution_count": 0,
      "outputs": [
        {
          "output_type": "display_data",
          "data": {
            "image/png": "[encoded data removed]",
            "text/plain": [
              "<Figure size 1296x936 with 1 Axes>"
            ]
          },
          "metadata": {
            "tags": []
          }
        }
      ]
    }
  ]
}